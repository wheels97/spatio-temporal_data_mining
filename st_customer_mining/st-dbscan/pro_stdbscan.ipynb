{
 "cells": [
  {
   "cell_type": "markdown",
   "metadata": {},
   "source": [
    "# 读取数据并用stdbscan输出聚类结果"
   ]
  },
  {
   "cell_type": "code",
   "execution_count": 1,
   "metadata": {},
   "outputs": [],
   "source": [
    "import numpy as np\n",
    "import pandas as pd\n",
    "from datetime import datetime\n",
    "from datetime import timedelta\n",
    "from stdbscan import STDBSCAN"
   ]
  },
  {
   "cell_type": "code",
   "execution_count": 2,
   "metadata": {},
   "outputs": [],
   "source": [
    "def changetime(x):#改变为时间戳模式\n",
    "    time = str(x)\n",
    "    newtime = time[:-4] + ':' +time[-4:-2] + ':' + time[-2:]\n",
    "    newtime_ = datetime.strptime(newtime, '%H:%M:%S')\n",
    "    return newtime_"
   ]
  },
  {
   "cell_type": "code",
   "execution_count": 4,
   "metadata": {},
   "outputs": [],
   "source": [
    "df_raw = pd.read_csv('0720QueryResults.csv',sep=\",\",converters={'crt_time': changetime})\n",
    "df_raw = df_raw[df_raw['city'] == '青岛市']\n",
    "df_raw = df_raw[['longitude','latitude','crt_time']]"
   ]
  },
  {
   "cell_type": "code",
   "execution_count": 5,
   "metadata": {},
   "outputs": [],
   "source": [
    "def plot_clusters(df, output_name):#聚类图像\n",
    "    import matplotlib.pyplot as plt\n",
    "\n",
    "    labels = df['cluster'].values\n",
    "    X = df[['longitude', 'latitude']].values\n",
    "\n",
    "    # Black removed and is used for noise instead.\n",
    "    unique_labels = set(labels)\n",
    "    colors = [plt.cm.Spectral(each)\n",
    "              for each in np.linspace(0, 1, len(unique_labels))]\n",
    "    for k, col in zip(unique_labels, colors):\n",
    "        if k == -1:\n",
    "            # Black used for noise.\n",
    "            col = [0, 0, 0, 1]\n",
    "\n",
    "        class_member_mask = (labels == k)\n",
    "\n",
    "        xy = X[class_member_mask]\n",
    "        plt.plot(xy[:, 0], xy[:, 1], 'o', markerfacecolor=tuple(col),\n",
    "                 markeredgecolor='k', markersize=6)\n",
    "\n",
    "    plt.title('ST-DSCAN: #n of clusters {}'.format(len(unique_labels)))\n",
    "    plt.show()\n",
    "    # plt.savefig(output_name)"
   ]
  },
  {
   "cell_type": "code",
   "execution_count": 6,
   "metadata": {},
   "outputs": [],
   "source": [
    "def test_time(df):\n",
    "    df = df.sample(n=50000,random_state = 1)\n",
    "#     df.sample(frac=0.5,axis=0)\n",
    "    '''\n",
    "    transfrom the lon and lat to x and y\n",
    "    need to select the right epsg\n",
    "    I don't the true epsg of sample, but get the same result by using \n",
    "    epsg:4326 and epsg:32635\n",
    "    '''\n",
    "    st_dbscan = STDBSCAN(col_lat='latitude', col_lon='longitude',\n",
    "                         col_time='crt_time', spatial_threshold=10000,\n",
    "                         temporal_threshold=180, min_neighbors=11)\n",
    "    df = st_dbscan.projection(df, p1_str='epsg:4326', p2_str='epsg:32635')\n",
    "#     df = st_dbscan\n",
    "    result_t600 = st_dbscan.run(df)\n",
    "    return result_t600"
   ]
  },
  {
   "cell_type": "code",
   "execution_count": 7,
   "metadata": {},
   "outputs": [
    {
     "name": "stdout",
     "output_type": "stream",
     "text": [
      "Wall time: 0 ns\n",
      "            longitude      latitude            crt_time\n",
      "696781   7.625598e+06  1.050342e+07 1900-01-01 09:25:17\n",
      "751778   7.592606e+06  1.045309e+07 1900-01-01 17:59:46\n",
      "1119674  7.533278e+06  1.042871e+07 1900-01-01 16:40:54\n",
      "429255   7.476516e+06  1.051981e+07 1900-01-01 13:10:53\n",
      "124846   7.606978e+06  1.052168e+07 1900-01-01 19:02:23\n",
      "...               ...           ...                 ...\n",
      "614474   7.584906e+06  1.050947e+07 1900-01-01 09:44:02\n",
      "1366288  7.569676e+06  1.051498e+07 1900-01-01 08:51:38\n",
      "489884   7.476685e+06  1.052052e+07 1900-01-01 10:20:01\n",
      "1130168  7.498748e+06  1.043724e+07 1900-01-01 13:31:07\n",
      "316291   7.622176e+06  1.050790e+07 1900-01-01 17:59:50\n",
      "\n",
      "[50000 rows x 3 columns]\n"
     ]
    },
    {
     "name": "stderr",
     "output_type": "stream",
     "text": [
      "C:\\Users\\85185\\AppData\\Local\\Continuum\\anaconda3\\lib\\site-packages\\pyproj\\crs.py:77: FutureWarning: '+init=<authority>:<code>' syntax is deprecated. '<authority>:<code>' is the preferred initialization method.\n",
      "  return _prepare_from_string(\" \".join(pjargs))\n",
      "C:\\Users\\85185\\AppData\\Local\\Continuum\\anaconda3\\lib\\site-packages\\pyproj\\crs.py:77: FutureWarning: '+init=<authority>:<code>' syntax is deprecated. '<authority>:<code>' is the preferred initialization method.\n",
      "  return _prepare_from_string(\" \".join(pjargs))\n"
     ]
    },
    {
     "name": "stdout",
     "output_type": "stream",
     "text": [
      "-1     16642\n",
      " 1     11966\n",
      " 3      6935\n",
      " 4      6217\n",
      " 5      2522\n",
      "       ...  \n",
      " 91       12\n",
      " 90       12\n",
      " 62        9\n",
      " 59        9\n",
      " 80        8\n",
      "Name: cluster, Length: 92, dtype: int64\n"
     ]
    }
   ],
   "source": [
    "%time\n",
    "df = pd.DataFrame(test_time(df_raw))\n",
    "print(pd.value_counts(df['cluster']))"
   ]
  },
  {
   "cell_type": "code",
   "execution_count": 9,
   "metadata": {},
   "outputs": [
    {
     "data": {
      "text/html": [
       "<div>\n",
       "<style scoped>\n",
       "    .dataframe tbody tr th:only-of-type {\n",
       "        vertical-align: middle;\n",
       "    }\n",
       "\n",
       "    .dataframe tbody tr th {\n",
       "        vertical-align: top;\n",
       "    }\n",
       "\n",
       "    .dataframe thead th {\n",
       "        text-align: right;\n",
       "    }\n",
       "</style>\n",
       "<table border=\"1\" class=\"dataframe\">\n",
       "  <thead>\n",
       "    <tr style=\"text-align: right;\">\n",
       "      <th></th>\n",
       "      <th>longitude</th>\n",
       "      <th>latitude</th>\n",
       "      <th>crt_time</th>\n",
       "      <th>cluster</th>\n",
       "    </tr>\n",
       "  </thead>\n",
       "  <tbody>\n",
       "    <tr>\n",
       "      <td>696781</td>\n",
       "      <td>7.625598e+06</td>\n",
       "      <td>1.050342e+07</td>\n",
       "      <td>1900-01-01 09:25:17</td>\n",
       "      <td>1</td>\n",
       "    </tr>\n",
       "    <tr>\n",
       "      <td>124846</td>\n",
       "      <td>7.606978e+06</td>\n",
       "      <td>1.052168e+07</td>\n",
       "      <td>1900-01-01 19:02:23</td>\n",
       "      <td>1</td>\n",
       "    </tr>\n",
       "    <tr>\n",
       "      <td>1342146</td>\n",
       "      <td>7.564629e+06</td>\n",
       "      <td>1.051145e+07</td>\n",
       "      <td>1900-01-01 10:55:59</td>\n",
       "      <td>1</td>\n",
       "    </tr>\n",
       "    <tr>\n",
       "      <td>1372601</td>\n",
       "      <td>7.569511e+06</td>\n",
       "      <td>1.051613e+07</td>\n",
       "      <td>1900-01-01 10:24:09</td>\n",
       "      <td>1</td>\n",
       "    </tr>\n",
       "    <tr>\n",
       "      <td>662106</td>\n",
       "      <td>7.556553e+06</td>\n",
       "      <td>1.051837e+07</td>\n",
       "      <td>1900-01-01 17:36:07</td>\n",
       "      <td>1</td>\n",
       "    </tr>\n",
       "    <tr>\n",
       "      <td>...</td>\n",
       "      <td>...</td>\n",
       "      <td>...</td>\n",
       "      <td>...</td>\n",
       "      <td>...</td>\n",
       "    </tr>\n",
       "    <tr>\n",
       "      <td>678432</td>\n",
       "      <td>7.613997e+06</td>\n",
       "      <td>1.050866e+07</td>\n",
       "      <td>1900-01-01 17:07:52</td>\n",
       "      <td>1</td>\n",
       "    </tr>\n",
       "    <tr>\n",
       "      <td>371472</td>\n",
       "      <td>7.583107e+06</td>\n",
       "      <td>1.050735e+07</td>\n",
       "      <td>1900-01-01 09:54:23</td>\n",
       "      <td>1</td>\n",
       "    </tr>\n",
       "    <tr>\n",
       "      <td>614474</td>\n",
       "      <td>7.584906e+06</td>\n",
       "      <td>1.050947e+07</td>\n",
       "      <td>1900-01-01 09:44:02</td>\n",
       "      <td>1</td>\n",
       "    </tr>\n",
       "    <tr>\n",
       "      <td>1366288</td>\n",
       "      <td>7.569676e+06</td>\n",
       "      <td>1.051498e+07</td>\n",
       "      <td>1900-01-01 08:51:38</td>\n",
       "      <td>1</td>\n",
       "    </tr>\n",
       "    <tr>\n",
       "      <td>316291</td>\n",
       "      <td>7.622176e+06</td>\n",
       "      <td>1.050790e+07</td>\n",
       "      <td>1900-01-01 17:59:50</td>\n",
       "      <td>1</td>\n",
       "    </tr>\n",
       "  </tbody>\n",
       "</table>\n",
       "<p>11966 rows × 4 columns</p>\n",
       "</div>"
      ],
      "text/plain": [
       "            longitude      latitude            crt_time cluster\n",
       "696781   7.625598e+06  1.050342e+07 1900-01-01 09:25:17       1\n",
       "124846   7.606978e+06  1.052168e+07 1900-01-01 19:02:23       1\n",
       "1342146  7.564629e+06  1.051145e+07 1900-01-01 10:55:59       1\n",
       "1372601  7.569511e+06  1.051613e+07 1900-01-01 10:24:09       1\n",
       "662106   7.556553e+06  1.051837e+07 1900-01-01 17:36:07       1\n",
       "...               ...           ...                 ...     ...\n",
       "678432   7.613997e+06  1.050866e+07 1900-01-01 17:07:52       1\n",
       "371472   7.583107e+06  1.050735e+07 1900-01-01 09:54:23       1\n",
       "614474   7.584906e+06  1.050947e+07 1900-01-01 09:44:02       1\n",
       "1366288  7.569676e+06  1.051498e+07 1900-01-01 08:51:38       1\n",
       "316291   7.622176e+06  1.050790e+07 1900-01-01 17:59:50       1\n",
       "\n",
       "[11966 rows x 4 columns]"
      ]
     },
     "execution_count": 9,
     "metadata": {},
     "output_type": "execute_result"
    }
   ],
   "source": [
    "df[df.cluster == 1]"
   ]
  },
  {
   "cell_type": "code",
   "execution_count": 16,
   "metadata": {},
   "outputs": [
    {
     "data": {
      "text/plain": [
       "10590232.720614651"
      ]
     },
     "execution_count": 16,
     "metadata": {},
     "output_type": "execute_result"
    }
   ],
   "source": [
    "df['latitude'].max(axis=0)"
   ]
  },
  {
   "cell_type": "code",
   "execution_count": 2,
   "metadata": {},
   "outputs": [
    {
     "ename": "NameError",
     "evalue": "name 'plot_clusters' is not defined",
     "output_type": "error",
     "traceback": [
      "\u001b[1;31m---------------------------------------------------------------------------\u001b[0m",
      "\u001b[1;31mNameError\u001b[0m                                 Traceback (most recent call last)",
      "\u001b[1;32m<ipython-input-2-c016f8bea95b>\u001b[0m in \u001b[0;36m<module>\u001b[1;34m()\u001b[0m\n\u001b[1;32m----> 1\u001b[1;33m \u001b[0mplot_clusters\u001b[0m\u001b[1;33m(\u001b[0m\u001b[0mdf\u001b[0m\u001b[1;33m,\u001b[0m\u001b[1;36m1\u001b[0m\u001b[1;33m)\u001b[0m\u001b[1;33m\u001b[0m\u001b[1;33m\u001b[0m\u001b[0m\n\u001b[0m",
      "\u001b[1;31mNameError\u001b[0m: name 'plot_clusters' is not defined"
     ]
    }
   ],
   "source": [
    "plot_clusters(df,1)"
   ]
  },
  {
   "cell_type": "code",
   "execution_count": null,
   "metadata": {},
   "outputs": [],
   "source": []
  }
 ],
 "metadata": {
  "kernelspec": {
   "display_name": "Python 3",
   "language": "python",
   "name": "python3"
  },
  "language_info": {
   "codemirror_mode": {
    "name": "ipython",
    "version": 3
   },
   "file_extension": ".py",
   "mimetype": "text/x-python",
   "name": "python",
   "nbconvert_exporter": "python",
   "pygments_lexer": "ipython3",
   "version": "3.7.4"
  }
 },
 "nbformat": 4,
 "nbformat_minor": 2
}
